{
 "cells": [
  {
   "cell_type": "code",
   "execution_count": 2,
   "id": "b4613eee-d479-4e3f-a0e7-680d39f44c9c",
   "metadata": {},
   "outputs": [],
   "source": [
    "import pandas as pd\n",
    "csvData = pd.read_csv(\"main.csv\")\n",
    "csvData.sort_values([\"Red Cards\"],\n",
    "axis=0,\n",
    "ascending=[False],\n",
    "inplace=True)\n",
    "csvData.sort_values([\"Yellow Cards\"],\n",
    "axis=0,\n",
    "ascending=[False],\n",
    "inplace=True)\n",
    "df=pd.DataFrame(csvData)\n",
    "df.to_csv('solution.csv')"
   ]
  },
  {
   "cell_type": "code",
   "execution_count": null,
   "id": "8d360e56-5ef2-47df-9395-efda549bb843",
   "metadata": {},
   "outputs": [],
   "source": []
  }
 ],
 "metadata": {
  "kernelspec": {
   "display_name": "Python 3 (ipykernel)",
   "language": "python",
   "name": "python3"
  },
  "language_info": {
   "codemirror_mode": {
    "name": "ipython",
    "version": 3
   },
   "file_extension": ".py",
   "mimetype": "text/x-python",
   "name": "python",
   "nbconvert_exporter": "python",
   "pygments_lexer": "ipython3",
   "version": "3.9.6"
  }
 },
 "nbformat": 4,
 "nbformat_minor": 5
}
