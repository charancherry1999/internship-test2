{
 "cells": [
  {
   "cell_type": "code",
   "execution_count": 3,
   "id": "75699db5-2c26-4538-bac2-b4bcc37de27c",
   "metadata": {},
   "outputs": [],
   "source": [
    "import pandas as pd\n",
    "grocery = pd.read_csv(\"main.csv\")\n",
    "grocery.head()\n",
    "grocery.groupby('product_description')['price'].mean()\n",
    "grocery[\"price_new\"] = grocery['price'].fillna(\n",
    "   grocery.groupby('product_description')['price'].transform(\"mean\")\n",
    ")\n",
    "df = pd.DataFrame(grocery)\n",
    "df.to_csv('solution.csv')"
   ]
  },
  {
   "cell_type": "code",
   "execution_count": null,
   "id": "642e9c25-a77f-4fe8-b40f-2f9890408f63",
   "metadata": {},
   "outputs": [],
   "source": []
  }
 ],
 "metadata": {
  "kernelspec": {
   "display_name": "Python 3 (ipykernel)",
   "language": "python",
   "name": "python3"
  },
  "language_info": {
   "codemirror_mode": {
    "name": "ipython",
    "version": 3
   },
   "file_extension": ".py",
   "mimetype": "text/x-python",
   "name": "python",
   "nbconvert_exporter": "python",
   "pygments_lexer": "ipython3",
   "version": "3.9.6"
  }
 },
 "nbformat": 4,
 "nbformat_minor": 5
}
